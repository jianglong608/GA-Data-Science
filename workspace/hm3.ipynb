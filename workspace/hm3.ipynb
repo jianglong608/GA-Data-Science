{
 "cells": [
  {
   "cell_type": "code",
   "execution_count": 1,
   "metadata": {
    "collapsed": false
   },
   "outputs": [
    {
     "name": "stdout",
     "output_type": "stream",
     "text": [
      "['apples', 'strawberries', 'pinapples', 'papayas'] ('apples', 'strawberries', 'pinapples', 'pears', 'oranges') {'strawberries': 0.3, 'apples': 0.29, 'oranges': 0.2, 'pinapples': 1.5, 'bananas': 0.05}\n",
      "Mindy, the store has strawberries and they cost $0.3\n",
      "Mindy, the store has apples and they cost $0.29\n",
      "Mindy, the store does not have oranges\n",
      "Mindy, the store has pinapples and they cost $1.5\n",
      "Mindy, the store does not have bananas\n",
      "Al, the store has apple and they cost $0.29\n",
      "Al, the store has banana and they cost $0.05\n"
     ]
    }
   ],
   "source": [
    "# exercise 1 list, tuple, dict\n",
    "\n",
    "desire = ['apples', 'strawberries', 'pinapples', 'papayas']\n",
    "store = 'apples', 'strawberries', 'pinapples', 'pears', 'oranges'\n",
    "price = {'apples': .29, 'bananas': .05, 'oranges': .2, 'strawberries': .3, 'pinapples': 1.5}\n",
    "\n",
    "print(desire, store, price)\n",
    "\n",
    "# excercise 2 loop\n",
    "for i in price:\n",
    "    if i in desire:\n",
    "        print(\"Mindy, the store has {fruit} and they cost ${money}\".format(fruit = i, money = price[i]))\n",
    "    else:\n",
    "        print(\"Mindy, the store does not have {}\".format(i))\n",
    "\n",
    "\n",
    "\n",
    "\n",
    "# excercise 3 function\n",
    "def buy(name, fruits_you_want, fruits_the_store_has, prices):\n",
    "    for fruit in fruits_the_store_has:\n",
    "        if fruit in fruits_you_want:\n",
    "            print('{}, the store has {} and they cost ${}'.format(name, fruit, prices[fruit]))\n",
    "\n",
    "buy(name = 'Al',\n",
    "fruits_you_want = ['apple', 'banana'],\n",
    "fruits_the_store_has = ('apple', 'banana', 'orange', 'strawberries', 'pineapple'),\n",
    "prices = {\n",
    "    'apple' : .29,\n",
    "    'banana':  .05,\n",
    "    'orange': .20,\n",
    "    'strawberries': .30,\n",
    "    'pinapple': 1.50\n",
    "})            \n",
    "            \n",
    "            "
   ]
  },
  {
   "cell_type": "code",
   "execution_count": 4,
   "metadata": {
    "collapsed": false
   },
   "outputs": [],
   "source": [
    "# excercise 4, class\n",
    "\n",
    "class store():\n",
    "    def __init__(self, inventory):\n",
    "        self.inventory = inventory\n",
    "    \n",
    "    def show_inventory(self):\n",
    "        print(self.inventory)\n",
    "        \n",
    "    def message_customer(self, customer):\n",
    "        for item in customer.fruit:\n",
    "            if item in inventory:\n",
    "                print(\"The store has {} and its cost is ${}\".format(item, self.inventory[item]) )\n",
    "        else:\n",
    "            print(\"The store does not have anything you want\")\n",
    "            print(customer.greeting)\n",
    "                \n",
    "\n",
    "\n",
    "\n",
    "class customer():\n",
    "    def __init__(self, first_name, last_name, is_male, money, preferred_fruit, fruit = {}):\n",
    "        self.first_name = first_name\n",
    "        self.last_name = last_name\n",
    "        self.money = money\n",
    "        self.fruit = fruit\n",
    "        self.preferred_fruit = preferred_fruit\n",
    "    \n",
    "    def formal_greeting(self):\n",
    "        if self.is_male == True:\n",
    "            return('Mr. {} {}'.format(self.first_name, self.last_name))\n",
    "        else:\n",
    "            return('Ms. {} {}'.format(self.first_name, self.last_name))\n",
    "    \n",
    "    def buy_fruit(self, store, fruit_name, fruit_amt):\n",
    "        if fruit_name not in store:\n",
    "            print('The store does not have the {}'.format(fruit_name))\n",
    "        elif self.money < store.inventory[fruit_name] * fruit_amt:\n",
    "            print(\"Sorry, you don't have enough money\")\n",
    "        else:\n",
    "            self.money -= store.inventory[fruit_name] * fruit_amt\n",
    "            if fruit_name in self.fruit:\n",
    "                self.fruit[fruit_name] += fruit_amt\n",
    "            else:\n",
    "                self.fruit[fruit_name] = fruit_amt\n",
    "            "
   ]
  },
  {
   "cell_type": "markdown",
   "metadata": {
    "collapsed": true
   },
   "source": [
    "- Mindy Smith - \\$5.25, likes apples and oranges\n",
    "- Al Johri - \\$20.19, likes papaya, strawberries, pinapple, and apples\n",
    "- Hillary Clinton - \\$15, likes strawberries and oranges\n",
    "- Oliver Twist - \\$.05, likes apples\n",
    "- Donald Trump - \\$4000, only likes durian"
   ]
  },
  {
   "cell_type": "code",
   "execution_count": 10,
   "metadata": {
    "collapsed": false
   },
   "outputs": [],
   "source": [
    "mindy = customer(first_name = \"Mindy\", last_name = \"Smith\", is_male = False, \n",
    "                 money = 5.25, preferred_fruit = [\"apples\", \"anges\"])\n",
    "\n",
    "al = customer(first_name = 'Al', last_name = 'Johri', is_male = True, \n",
    "              money = 20.19, preferred_fruit = [\"papayas\", \"strawbe\", 'pinapples', 'apples'])\n",
    "\n",
    "hillary = customer(first_name = 'Hillary', last_name = 'Clinton', is_male = False, \n",
    "              money = 15, preferred_fruit = [\"strawberries\", \"oranges\"])\n",
    "\n",
    "oliver = customer(first_name = 'Oliver', last_name = 'Twist', is_male = False, \n",
    "              money = .05, preferred_fruit = [\"apples\"])\n",
    "\n",
    "donald = customer(first_name = 'Donald', last_name = 'Trump', is_male = True, \n",
    "              money = 4000, preferred_fruit = [\"durian\"])"
   ]
  },
  {
   "cell_type": "markdown",
   "metadata": {},
   "source": [
    "-Create a store called Whole Foods with the following inventory\n",
    "-'apple' : $.29\n",
    "-'banana': $.05\n",
    "-'orange': $.20\n",
    "'strawberries': $.30\n",
    "'pinapple': $1.50,\n",
    "'grapes': $.22,\n",
    "'durian': $5000\n",
    "Write code to do the following\n",
    "Print the store's inventory\n",
    "For each customer, print the store's message to them\n",
    "Have each customer purchase 1 of each fruit in their list of preferred fruits."
   ]
  },
  {
   "cell_type": "code",
   "execution_count": null,
   "metadata": {
    "collapsed": true
   },
   "outputs": [],
   "source": []
  }
 ],
 "metadata": {
  "kernelspec": {
   "display_name": "Python 3",
   "language": "python",
   "name": "python3"
  },
  "language_info": {
   "codemirror_mode": {
    "name": "ipython",
    "version": 3
   },
   "file_extension": ".py",
   "mimetype": "text/x-python",
   "name": "python",
   "nbconvert_exporter": "python",
   "pygments_lexer": "ipython3",
   "version": "3.5.1"
  }
 },
 "nbformat": 4,
 "nbformat_minor": 0
}
