{
 "cells": [
  {
   "cell_type": "code",
   "execution_count": 60,
   "metadata": {
    "collapsed": true
   },
   "outputs": [],
   "source": [
    "# excercise 4, class\n",
    "\n",
    "class store():\n",
    "    def __init__(self, inventory):\n",
    "        self.inventory = inventory\n",
    "    \n",
    "    def show_inventory(self):\n",
    "        return self.inventory\n",
    "        \n",
    "    def message_customer(self, customer):\n",
    "        count = 0\n",
    "        for item in customer.preferred_fruit:\n",
    "            if item in self.inventory:\n",
    "                print(\"{}, The store has {} and its cost is ${}\".format(customer.formal_greeting(), item, \n",
    "                                                                        self.inventory[item]) )\n",
    "                count += 1\n",
    "       \n",
    "        if count == 0:\n",
    "            print(customer.formal_greeting())            \n",
    "            print(\"The store does not have anything you want\")\n",
    "            \n",
    "\n",
    "                \n",
    "\n",
    "\n",
    "\n",
    "class customer():\n",
    "    def __init__(self, first_name, last_name, is_male, money, preferred_fruit, fruit = {}):\n",
    "        self.first_name = first_name\n",
    "        self.last_name = last_name\n",
    "        self.is_male = is_male\n",
    "        self.money = money\n",
    "        self.fruit = fruit\n",
    "        self.preferred_fruit = preferred_fruit\n",
    "    \n",
    "    def formal_greeting(self):\n",
    "        if self.is_male == True:\n",
    "            return('Mr. {} {}'.format(self.first_name, self.last_name))\n",
    "        else:\n",
    "            return('Ms. {} {}'.format(self.first_name, self.last_name))\n",
    "    \n",
    "    def buy_fruit(self, store, fruit_name, fruit_amt):\n",
    "        if fruit_name not in store.inventory:\n",
    "            print('The store does not have {}'.format(fruit_name))\n",
    "        elif self.money < store.inventory[fruit_name] * fruit_amt:\n",
    "            print(\"Sorry, you don't have enough money\")\n",
    "        else:\n",
    "            self.money -= store.inventory[fruit_name] * fruit_amt\n",
    "            if fruit_name in self.fruit:\n",
    "                self.fruit[fruit_name] += fruit_amt\n",
    "            else:\n",
    "                self.fruit[fruit_name] = fruit_amt\n",
    "            \n"
   ]
  },
  {
   "cell_type": "markdown",
   "metadata": {},
   "source": [
    "- Mindy Smith - \\$5.25, likes apples and oranges\n",
    "- Al Johri - \\$20.19, likes papaya, strawberries, pinapple, and apples\n",
    "- Hillary Clinton - \\$15, likes strawberries and oranges\n",
    "- Oliver Twist - \\$.05, likes apples\n",
    "- Donald Trump - \\$4000, only likes durian\n"
   ]
  },
  {
   "cell_type": "code",
   "execution_count": 72,
   "metadata": {
    "collapsed": false
   },
   "outputs": [],
   "source": [
    "mindy = customer(first_name = \"Mindy\", last_name = \"Smith\", is_male = False, \n",
    "                 money = 5.25, preferred_fruit = [\"apple\", \"orange\"])\n",
    "\n",
    "al = customer(first_name = 'Al', last_name = 'Johri', is_male = True, \n",
    "              money = 20.19, preferred_fruit = [\"papaya\", \"strawberries\", 'pinapple', 'apple'])\n",
    "\n",
    "hillary = customer(first_name = 'Hillary', last_name = 'Clinton', is_male = False, \n",
    "              money = 15, preferred_fruit = [\"strawberries\", \"orange\"])\n",
    "\n",
    "oliver = customer(first_name = 'Oliver', last_name = 'Twist', is_male = False, \n",
    "              money = .05, preferred_fruit = [\"apple\"])\n",
    "\n",
    "donald = customer(first_name = 'Donald', last_name = 'Trump', is_male = True, \n",
    "              money = 4000, preferred_fruit = [\"durian\"])\n",
    "\n",
    "\n"
   ]
  },
  {
   "cell_type": "markdown",
   "metadata": {
    "collapsed": true
   },
   "source": [
    "Create a store called Whole Foods with the following inventory\n",
    "\n",
    "* 'apple' : \\$.29\n",
    "* 'banana': \\$.05\n",
    "* 'orange': \\$.20\n",
    "* 'strawberries': \\$.30\n",
    "* 'pinapple': \\$1.50,\n",
    "* 'grapes': \\$.22,\n",
    "* 'durian': \\$5000"
   ]
  },
  {
   "cell_type": "code",
   "execution_count": 62,
   "metadata": {
    "collapsed": true
   },
   "outputs": [],
   "source": [
    "WFinven = {\n",
    "    'apple' : .29,\n",
    "    'banana': .05,\n",
    "    'orange': .20,\n",
    "    'strawberries': .30,\n",
    "    'pinapple': 1.50,\n",
    "    'grapes': .22,\n",
    "    'durian': 5000\n",
    "}\n",
    "\n",
    "WholeFoods = store(inventory = WFinven)"
   ]
  },
  {
   "cell_type": "code",
   "execution_count": 65,
   "metadata": {
    "collapsed": false
   },
   "outputs": [
    {
     "name": "stdout",
     "output_type": "stream",
     "text": [
      "15 {}\n",
      "20.19 {}\n",
      "0.05 {}\n",
      "5.25 {}\n",
      "4000 {}\n"
     ]
    }
   ],
   "source": [
    "print(hillary.money, hillary.fruit)\n",
    "print(al.money, al.fruit)\n",
    "print(oliver.money, oliver.fruit)\n",
    "print(mindy.money, mindy.fruit)\n",
    "print(donald.money, donald.fruit)"
   ]
  },
  {
   "cell_type": "code",
   "execution_count": 66,
   "metadata": {
    "collapsed": false
   },
   "outputs": [
    {
     "name": "stdout",
     "output_type": "stream",
     "text": [
      "14.5 {'orange': 1, 'strawberries': 1}\n",
      "20.19 {'orange': 1, 'strawberries': 1}\n",
      "0.05 {'orange': 1, 'strawberries': 1}\n",
      "5.25 {'orange': 1, 'strawberries': 1}\n",
      "4000 {'orange': 1, 'strawberries': 1}\n"
     ]
    }
   ],
   "source": [
    "for item in hillary.preferred_fruit:\n",
    "    hillary.buy_fruit(WholeFoods, item, 1)\n",
    "                      \n",
    "print(hillary.money, hillary.fruit)\n",
    "print(al.money, al.fruit)\n",
    "print(oliver.money, oliver.fruit)\n",
    "print(mindy.money, mindy.fruit)\n",
    "print(donald.money, donald.fruit)"
   ]
  },
  {
   "cell_type": "markdown",
   "metadata": {
    "collapsed": true
   },
   "source": [
    "# Question and debug\n",
    "# I just have hillary buy fruit and why all other ppl's fruit collection all changed?"
   ]
  },
  {
   "cell_type": "code",
   "execution_count": null,
   "metadata": {
    "collapsed": true
   },
   "outputs": [],
   "source": []
  }
 ],
 "metadata": {
  "kernelspec": {
   "display_name": "Python 3",
   "language": "python",
   "name": "python3"
  },
  "language_info": {
   "codemirror_mode": {
    "name": "ipython",
    "version": 3
   },
   "file_extension": ".py",
   "mimetype": "text/x-python",
   "name": "python",
   "nbconvert_exporter": "python",
   "pygments_lexer": "ipython3",
   "version": "3.5.1"
  }
 },
 "nbformat": 4,
 "nbformat_minor": 0
}
