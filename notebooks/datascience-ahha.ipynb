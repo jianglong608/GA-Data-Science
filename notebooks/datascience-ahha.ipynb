{
 "cells": [
  {
   "cell_type": "markdown",
   "metadata": {},
   "source": [
    "# This is an ah-ha notebook for data science"
   ]
  },
  {
   "cell_type": "markdown",
   "metadata": {},
   "source": [
    "### how for statement is used\n",
    "- We use for statement for looping over a list.\n",
    "- If we use it with a string, it loops over its characters.\n",
    "- If we use it with a dictionary, it loops over its keys.\n",
    "- If we use it with a file, it loops over lines of the file."
   ]
  },
  {
   "cell_type": "markdown",
   "metadata": {
    "collapsed": true
   },
   "source": [
    "**It is good practice** to use the with keyword when dealing with file objects. This has the advantage that the file is properly closed after its suite finishes, even if an exception is raised on the way. It is also much shorter than writing equivalent try-finally blocks:\n",
    "\n",
    "\n",
    "\n",
    "\n",
    "    with open('workfile', 'r') as f:\n",
    "         read_data = f.read()\n",
    "    f.closed"
   ]
  },
  {
   "cell_type": "markdown",
   "metadata": {},
   "source": [
    "**One way to create dict from two lists**\n",
    "\n",
    "    a = list(range(3))\n",
    "    b = ['a', 'b', 'c']\n",
    "    print(dict(zip(b,a)))"
   ]
  },
  {
   "cell_type": "markdown",
   "metadata": {},
   "source": [
    "**Note the difference between below list compre, And how to use lambda func in list compre**"
   ]
  },
  {
   "cell_type": "code",
   "execution_count": 1,
   "metadata": {
    "collapsed": false
   },
   "outputs": [
    {
     "name": "stdout",
     "output_type": "stream",
     "text": [
      "[<function <listcomp>.<lambda> at 0x1052880d0>, <function <listcomp>.<lambda> at 0x105288158>, <function <listcomp>.<lambda> at 0x1052881e0>, <function <listcomp>.<lambda> at 0x105288268>, <function <listcomp>.<lambda> at 0x1052882f0>, <function <listcomp>.<lambda> at 0x105288378>, <function <listcomp>.<lambda> at 0x105288400>, <function <listcomp>.<lambda> at 0x105288488>, <function <listcomp>.<lambda> at 0x105288510>, <function <listcomp>.<lambda> at 0x105288598>]\n",
      "[0, 1, 4, 9, 16, 25, 36, 49, 64, 81]\n",
      "[0, 1, 4, 9, 16, 25, 36, 49, 64, 81]\n",
      "[0, 1, 4, 9, 16, 25, 36, 49, 64, 81]\n"
     ]
    }
   ],
   "source": [
    "print([lambda x: x*x for x in range(10)])\n",
    "print(list(map(lambda x: x**2, range(10))))\n",
    "print([(lambda x: x*x)(x) for x in range(10)])\n",
    "print([x**2 for x in range(10)])"
   ]
  },
  {
   "cell_type": "markdown",
   "metadata": {},
   "source": [
    "**element wise calculation for vectors/lists use zip() function**"
   ]
  },
  {
   "cell_type": "code",
   "execution_count": 3,
   "metadata": {
    "collapsed": true
   },
   "outputs": [],
   "source": [
    "def vector_add(v, w):\n",
    "    \"\"\"adds two vectors componentwise and returns the result\n",
    "        hint: use zip()\n",
    "        v + w = [4, 5, 1] + [9, 8, 1] = [13, 13, 2]\n",
    "    \"\"\"\n",
    "    \n",
    "    return [sum(i) for i in zip(v, w)]\n",
    "\n",
    "def vector_subtract(v, w):\n",
    "    \"\"\"subtracts two vectors componentwise and returns the result\n",
    "        hint use zip()\n",
    "        v + w = [4, 5, 1] - [9, 8, 1] = [-5, -3, 0]\n",
    "    \"\"\"\n",
    "    return [x - y for x, y in zip(v, w)]"
   ]
  },
  {
   "cell_type": "code",
   "execution_count": null,
   "metadata": {
    "collapsed": true
   },
   "outputs": [],
   "source": []
  }
 ],
 "metadata": {
  "kernelspec": {
   "display_name": "Python 3",
   "language": "python",
   "name": "python3"
  },
  "language_info": {
   "codemirror_mode": {
    "name": "ipython",
    "version": 3
   },
   "file_extension": ".py",
   "mimetype": "text/x-python",
   "name": "python",
   "nbconvert_exporter": "python",
   "pygments_lexer": "ipython3",
   "version": "3.5.1"
  }
 },
 "nbformat": 4,
 "nbformat_minor": 0
}
