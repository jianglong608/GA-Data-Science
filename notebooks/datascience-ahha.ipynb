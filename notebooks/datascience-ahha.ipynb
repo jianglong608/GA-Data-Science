{
 "cells": [
  {
   "cell_type": "markdown",
   "metadata": {},
   "source": [
    "# This is an ah-ha notebook for data science"
   ]
  },
  {
   "cell_type": "markdown",
   "metadata": {},
   "source": [
    "### how for statement is used\n",
    "- We use for statement for looping over a list.\n",
    "- If we use it with a string, it loops over its characters.\n",
    "- If we use it with a dictionary, it loops over its keys.\n",
    "- If we use it with a file, it loops over lines of the file."
   ]
  },
  {
   "cell_type": "markdown",
   "metadata": {
    "collapsed": true
   },
   "source": [
    "**It is good practice** to use the with keyword when dealing with file objects. This has the advantage that the file is properly closed after its suite finishes, even if an exception is raised on the way. It is also much shorter than writing equivalent try-finally blocks:\n",
    "\n",
    "\n",
    "\n",
    "\n",
    "    with open('workfile', 'r') as f:\n",
    "         read_data = f.read()\n",
    "    f.closed"
   ]
  },
  {
   "cell_type": "markdown",
   "metadata": {},
   "source": [
    "**One way to create dict from two lists**\n",
    "\n",
    "    a = list(range(3))\n",
    "    b = ['a', 'b', 'c']\n",
    "    print(dict(zip(b,a)))"
   ]
  },
  {
   "cell_type": "code",
   "execution_count": null,
   "metadata": {
    "collapsed": true
   },
   "outputs": [],
   "source": []
  }
 ],
 "metadata": {
  "kernelspec": {
   "display_name": "Python 3",
   "language": "python",
   "name": "python3"
  },
  "language_info": {
   "codemirror_mode": {
    "name": "ipython",
    "version": 3
   },
   "file_extension": ".py",
   "mimetype": "text/x-python",
   "name": "python",
   "nbconvert_exporter": "python",
   "pygments_lexer": "ipython3",
   "version": "3.5.1"
  }
 },
 "nbformat": 4,
 "nbformat_minor": 0
}
